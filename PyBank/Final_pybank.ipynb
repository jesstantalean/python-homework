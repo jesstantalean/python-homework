{
 "cells": [
  {
   "cell_type": "code",
   "execution_count": 1,
   "id": "f52729e6-8a5d-4fc6-a0b7-e9d14693e87c",
   "metadata": {},
   "outputs": [],
   "source": [
    "import pandas as pd\n",
    "from pathlib import Path\n",
    "import os\n",
    "import numpy as np\n",
    "import csv"
   ]
  },
  {
   "cell_type": "code",
   "execution_count": 2,
   "id": "09a4a7e0-5a1f-4c17-8506-6f9a06b31778",
   "metadata": {},
   "outputs": [],
   "source": [
    "#create file path\n",
    "file_path = Path (os.getcwd() + \"/budget_data.csv\")"
   ]
  },
  {
   "cell_type": "code",
   "execution_count": 3,
   "id": "95800c72-d16d-4141-aa87-84eda1897402",
   "metadata": {},
   "outputs": [
    {
     "data": {
      "text/html": [
       "<div>\n",
       "<style scoped>\n",
       "    .dataframe tbody tr th:only-of-type {\n",
       "        vertical-align: middle;\n",
       "    }\n",
       "\n",
       "    .dataframe tbody tr th {\n",
       "        vertical-align: top;\n",
       "    }\n",
       "\n",
       "    .dataframe thead th {\n",
       "        text-align: right;\n",
       "    }\n",
       "</style>\n",
       "<table border=\"1\" class=\"dataframe\">\n",
       "  <thead>\n",
       "    <tr style=\"text-align: right;\">\n",
       "      <th></th>\n",
       "      <th>Date</th>\n",
       "      <th>Profit/Losses</th>\n",
       "    </tr>\n",
       "  </thead>\n",
       "  <tbody>\n",
       "    <tr>\n",
       "      <th>0</th>\n",
       "      <td>Jan-2010</td>\n",
       "      <td>867884</td>\n",
       "    </tr>\n",
       "    <tr>\n",
       "      <th>1</th>\n",
       "      <td>Feb-2010</td>\n",
       "      <td>984655</td>\n",
       "    </tr>\n",
       "    <tr>\n",
       "      <th>2</th>\n",
       "      <td>Mar-2010</td>\n",
       "      <td>322013</td>\n",
       "    </tr>\n",
       "    <tr>\n",
       "      <th>3</th>\n",
       "      <td>Apr-2010</td>\n",
       "      <td>-69417</td>\n",
       "    </tr>\n",
       "    <tr>\n",
       "      <th>4</th>\n",
       "      <td>May-2010</td>\n",
       "      <td>310503</td>\n",
       "    </tr>\n",
       "  </tbody>\n",
       "</table>\n",
       "</div>"
      ],
      "text/plain": [
       "       Date  Profit/Losses\n",
       "0  Jan-2010         867884\n",
       "1  Feb-2010         984655\n",
       "2  Mar-2010         322013\n",
       "3  Apr-2010         -69417\n",
       "4  May-2010         310503"
      ]
     },
     "execution_count": 3,
     "metadata": {},
     "output_type": "execute_result"
    }
   ],
   "source": [
    "#read csv file as a dataframe\n",
    "budget_csv=pd.read_csv(file_path)\n",
    "budget_csv.head()"
   ]
  },
  {
   "cell_type": "code",
   "execution_count": 4,
   "id": "afe84c70-94d2-45e3-bad5-4363ed8919df",
   "metadata": {},
   "outputs": [
    {
     "data": {
      "text/html": [
       "<div>\n",
       "<style scoped>\n",
       "    .dataframe tbody tr th:only-of-type {\n",
       "        vertical-align: middle;\n",
       "    }\n",
       "\n",
       "    .dataframe tbody tr th {\n",
       "        vertical-align: top;\n",
       "    }\n",
       "\n",
       "    .dataframe thead th {\n",
       "        text-align: right;\n",
       "    }\n",
       "</style>\n",
       "<table border=\"1\" class=\"dataframe\">\n",
       "  <thead>\n",
       "    <tr style=\"text-align: right;\">\n",
       "      <th></th>\n",
       "      <th>Profit/Losses</th>\n",
       "    </tr>\n",
       "  </thead>\n",
       "  <tbody>\n",
       "    <tr>\n",
       "      <th>count</th>\n",
       "      <td>8.600000e+01</td>\n",
       "    </tr>\n",
       "    <tr>\n",
       "      <th>mean</th>\n",
       "      <td>4.463090e+05</td>\n",
       "    </tr>\n",
       "    <tr>\n",
       "      <th>std</th>\n",
       "      <td>5.363579e+05</td>\n",
       "    </tr>\n",
       "    <tr>\n",
       "      <th>min</th>\n",
       "      <td>-1.196225e+06</td>\n",
       "    </tr>\n",
       "    <tr>\n",
       "      <th>25%</th>\n",
       "      <td>1.821620e+05</td>\n",
       "    </tr>\n",
       "    <tr>\n",
       "      <th>50%</th>\n",
       "      <td>5.703280e+05</td>\n",
       "    </tr>\n",
       "    <tr>\n",
       "      <th>75%</th>\n",
       "      <td>7.952262e+05</td>\n",
       "    </tr>\n",
       "    <tr>\n",
       "      <th>max</th>\n",
       "      <td>1.170593e+06</td>\n",
       "    </tr>\n",
       "  </tbody>\n",
       "</table>\n",
       "</div>"
      ],
      "text/plain": [
       "       Profit/Losses\n",
       "count   8.600000e+01\n",
       "mean    4.463090e+05\n",
       "std     5.363579e+05\n",
       "min    -1.196225e+06\n",
       "25%     1.821620e+05\n",
       "50%     5.703280e+05\n",
       "75%     7.952262e+05\n",
       "max     1.170593e+06"
      ]
     },
     "execution_count": 4,
     "metadata": {},
     "output_type": "execute_result"
    }
   ],
   "source": [
    "#summary of outputs\n",
    "budget_csv.describe()"
   ]
  },
  {
   "cell_type": "code",
   "execution_count": 5,
   "id": "49ff19f8-b50c-4b70-9458-3327d081b7fa",
   "metadata": {},
   "outputs": [
    {
     "data": {
      "text/plain": [
       "Date             object\n",
       "Profit/Losses     int64\n",
       "dtype: object"
      ]
     },
     "execution_count": 5,
     "metadata": {},
     "output_type": "execute_result"
    }
   ],
   "source": [
    "#identify data types\n",
    "budget_csv.dtypes"
   ]
  },
  {
   "cell_type": "code",
   "execution_count": 6,
   "id": "ceada314-b902-4cb7-bb42-cd158f4a9297",
   "metadata": {},
   "outputs": [],
   "source": [
    "budget_path=\"output.txt\""
   ]
  },
  {
   "cell_type": "code",
   "execution_count": 7,
   "id": "f460bb0b-b309-4422-9473-fbd60d8f2805",
   "metadata": {},
   "outputs": [],
   "source": [
    "total_months = 0\n",
    "total_pl = 0\n",
    "value = 0\n",
    "change = 0\n",
    "dates = []\n",
    "profits = []"
   ]
  },
  {
   "cell_type": "code",
   "execution_count": 8,
   "id": "41a27df7-ee0f-406b-8f72-2c7842db3489",
   "metadata": {},
   "outputs": [],
   "source": [
    "#Opening and reading the CSV file\n",
    "with open(file_path, newline = \"\") as csvfile:\n",
    "    csvreader = csv.reader(csvfile, delimiter = \",\")\n",
    "\n",
    "    #Reading the header row\n",
    "    csv_header = next(csvreader)\n",
    "\n",
    "    #Reading the first row (so that we track the changes properly)\n",
    "    first_row = next(csvreader)\n",
    "    total_months += 1\n",
    "    total_pl += int(first_row[1])\n",
    "    value = int(first_row[1])\n",
    "    \n",
    "    #Going through each row of data after the header & first row \n",
    "    for row in csvreader:\n",
    "        # Keeping track of the dates\n",
    "        dates.append(row[0])\n",
    "        \n",
    "        # Calculate the change, then add it to list of changes\n",
    "        change = int(row[1])-value\n",
    "        profits.append(change)\n",
    "        value = int(row[1])\n",
    "        \n",
    "        #Total number of months\n",
    "        total_months += 1\n",
    "\n",
    "        #Total net amount of \"Profit/Losses over entire period\"\n",
    "        total_pl = total_pl + int(row[1])"
   ]
  },
  {
   "cell_type": "code",
   "execution_count": 9,
   "id": "41048ced-249f-49a0-b735-9f4c893247c5",
   "metadata": {},
   "outputs": [
    {
     "name": "stdout",
     "output_type": "stream",
     "text": [
      "38382578\n"
     ]
    }
   ],
   "source": [
    "print(total_pl)"
   ]
  },
  {
   "cell_type": "code",
   "execution_count": 30,
   "id": "c5b4a3c4-911b-40bc-877d-8632bdce5bba",
   "metadata": {},
   "outputs": [
    {
     "name": "stdout",
     "output_type": "stream",
     "text": [
      "1926159\n",
      "Feb-2012\n"
     ]
    }
   ],
   "source": [
    "greatest_increase=max(profits)\n",
    "print(greatest_increase)\n",
    "\n",
    "greatest_index = profits.index(greatest_increase)\n",
    "greatest_date = dates[greatest_index]\n",
    "\n",
    "print(greatest_date)"
   ]
  },
  {
   "cell_type": "code",
   "execution_count": 31,
   "id": "cc8723d6-09bf-468a-baf8-5051becf3825",
   "metadata": {},
   "outputs": [
    {
     "name": "stdout",
     "output_type": "stream",
     "text": [
      "-2196167\n",
      "Sep-2013\n"
     ]
    }
   ],
   "source": [
    "greatest_decrease=min(profits)\n",
    "print(greatest_decrease)\n",
    "\n",
    "lowest_index = profits.index(greatest_decrease)\n",
    "lowest_date = dates[lowest_index]\n",
    "\n",
    "print(lowest_date)"
   ]
  },
  {
   "cell_type": "code",
   "execution_count": 12,
   "id": "2d052498-46fc-4df1-8444-0105fa05f917",
   "metadata": {},
   "outputs": [
    {
     "name": "stdout",
     "output_type": "stream",
     "text": [
      "-2315.1176470588234\n"
     ]
    }
   ],
   "source": [
    "average_change=sum(profits)/len(profits)\n",
    "print(average_change)"
   ]
  },
  {
   "cell_type": "code",
   "execution_count": 13,
   "id": "1a8cd6a4-d18f-41f6-9ac4-c61d5bc7f405",
   "metadata": {},
   "outputs": [
    {
     "data": {
      "text/plain": [
       "Date             86\n",
       "Profit/Losses    86\n",
       "dtype: int64"
      ]
     },
     "execution_count": 13,
     "metadata": {},
     "output_type": "execute_result"
    }
   ],
   "source": [
    "#Total number of months included in the dataset=86\n",
    "budget_csv.count(0)"
   ]
  },
  {
   "cell_type": "code",
   "execution_count": 14,
   "id": "050f6c13-f31a-4fa8-b524-b4276a2ba6bb",
   "metadata": {},
   "outputs": [
    {
     "name": "stdout",
     "output_type": "stream",
     "text": [
      "86\n"
     ]
    }
   ],
   "source": [
    "print(total_months)"
   ]
  },
  {
   "cell_type": "code",
   "execution_count": 15,
   "id": "4d814a58-a32b-4243-9bff-d6b313ff47e9",
   "metadata": {},
   "outputs": [
    {
     "name": "stdout",
     "output_type": "stream",
     "text": [
      "Total months: 86\n"
     ]
    }
   ],
   "source": [
    "print(f\"Total months: {total_months}\")"
   ]
  },
  {
   "cell_type": "code",
   "execution_count": 20,
   "id": "336f858c-e3ac-414d-a703-09ea8ecac039",
   "metadata": {},
   "outputs": [
    {
     "name": "stdout",
     "output_type": "stream",
     "text": [
      "Total: 38382578\n"
     ]
    }
   ],
   "source": [
    "print(f\"Total: {total_pl}\")"
   ]
  },
  {
   "cell_type": "code",
   "execution_count": 21,
   "id": "0ed8c11c-a16e-4e70-b179-c1eee8c59b02",
   "metadata": {},
   "outputs": [
    {
     "name": "stdout",
     "output_type": "stream",
     "text": [
      "Average Change: -2315.1176470588234\n"
     ]
    }
   ],
   "source": [
    "print(f\"Average Change: {average_change}\")"
   ]
  },
  {
   "cell_type": "code",
   "execution_count": 32,
   "id": "18f2c97a-0b64-4276-88fe-d7984036e8e8",
   "metadata": {},
   "outputs": [
    {
     "name": "stdout",
     "output_type": "stream",
     "text": [
      "Greatest Increase in Profits: Feb-2012 ($1926159)\n"
     ]
    }
   ],
   "source": [
    "print(f\"Greatest Increase in Profits: {greatest_date} (${str(greatest_increase)})\")"
   ]
  },
  {
   "cell_type": "code",
   "execution_count": 33,
   "id": "ee32ab05-7c60-4df5-9e53-240d51cf0a28",
   "metadata": {},
   "outputs": [
    {
     "name": "stdout",
     "output_type": "stream",
     "text": [
      "Greatest Decrease in Profits: Sep-2013 ($-2196167)\n"
     ]
    }
   ],
   "source": [
    "print(f\"Greatest Decrease in Profits: {lowest_date} (${str(greatest_decrease)})\")"
   ]
  },
  {
   "cell_type": "code",
   "execution_count": 56,
   "id": "738b2d83-2d22-473b-bbf9-a8d12ee25419",
   "metadata": {},
   "outputs": [],
   "source": [
    "file=open(\"budget_output.txt\",\"w\")\n",
    "file.write(\"Financial Analysis\" + \"\\n\")\n",
    "file.write(\"--------------------------\"+ \"\\n\")\n",
    "file.write(f\"Total: {total_pl}\" + \"\\n\")\n",
    "file.write(f\"Total: {average_change}\" + \"\\n\")\n",
    "file.write(f\"Total: {greatest_date} (${str(greatest_increase)})\" + \"\\n\")\n",
    "file.write(f\"Total:{lowest_date} (${str(greatest_decrease)})\" + \"\\n\")\n",
    "file.close()"
   ]
  },
  {
   "cell_type": "code",
   "execution_count": null,
   "id": "6147347b-56a2-428c-bb4d-348e29ed96f1",
   "metadata": {},
   "outputs": [],
   "source": []
  },
  {
   "cell_type": "code",
   "execution_count": null,
   "id": "3d4abfa5-0d3a-46c0-acf2-d8b1135252c2",
   "metadata": {},
   "outputs": [],
   "source": []
  }
 ],
 "metadata": {
  "kernelspec": {
   "display_name": "Python 3",
   "language": "python",
   "name": "python3"
  },
  "language_info": {
   "codemirror_mode": {
    "name": "ipython",
    "version": 3
   },
   "file_extension": ".py",
   "mimetype": "text/x-python",
   "name": "python",
   "nbconvert_exporter": "python",
   "pygments_lexer": "ipython3",
   "version": "3.8.8"
  }
 },
 "nbformat": 4,
 "nbformat_minor": 5
}
